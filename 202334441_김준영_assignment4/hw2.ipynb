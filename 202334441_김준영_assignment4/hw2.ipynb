{
 "cells": [
  {
   "cell_type": "markdown",
   "metadata": {},
   "source": [
    "### import library"
   ]
  },
  {
   "cell_type": "code",
   "execution_count": 1,
   "metadata": {},
   "outputs": [],
   "source": [
    "import pandas as pd\n",
    "import numpy as np\n",
    "import featuretools as ft\n",
    "from woodwork.logical_types import Categorical\n",
    "\n",
    "import warnings\n",
    "warnings.filterwarnings('ignore')"
   ]
  },
  {
   "cell_type": "markdown",
   "metadata": {},
   "source": [
    "### check version"
   ]
  },
  {
   "cell_type": "code",
   "execution_count": 2,
   "metadata": {},
   "outputs": [
    {
     "data": {
      "text/plain": [
       "'1.13.0'"
      ]
     },
     "execution_count": 2,
     "metadata": {},
     "output_type": "execute_result"
    }
   ],
   "source": [
    "ft.__version__"
   ]
  },
  {
   "cell_type": "markdown",
   "metadata": {},
   "source": [
    "### load csv data"
   ]
  },
  {
   "cell_type": "code",
   "execution_count": 3,
   "metadata": {},
   "outputs": [
    {
     "data": {
      "text/html": [
       "<div>\n",
       "<style scoped>\n",
       "    .dataframe tbody tr th:only-of-type {\n",
       "        vertical-align: middle;\n",
       "    }\n",
       "\n",
       "    .dataframe tbody tr th {\n",
       "        vertical-align: top;\n",
       "    }\n",
       "\n",
       "    .dataframe thead th {\n",
       "        text-align: right;\n",
       "    }\n",
       "</style>\n",
       "<table border=\"1\" class=\"dataframe\">\n",
       "  <thead>\n",
       "    <tr style=\"text-align: right;\">\n",
       "      <th></th>\n",
       "      <th>client_id</th>\n",
       "      <th>joined</th>\n",
       "      <th>income</th>\n",
       "      <th>credit_score</th>\n",
       "    </tr>\n",
       "  </thead>\n",
       "  <tbody>\n",
       "    <tr>\n",
       "      <th>0</th>\n",
       "      <td>46109</td>\n",
       "      <td>2002-04-16</td>\n",
       "      <td>172677</td>\n",
       "      <td>527</td>\n",
       "    </tr>\n",
       "    <tr>\n",
       "      <th>1</th>\n",
       "      <td>49545</td>\n",
       "      <td>2007-11-14</td>\n",
       "      <td>104564</td>\n",
       "      <td>770</td>\n",
       "    </tr>\n",
       "    <tr>\n",
       "      <th>2</th>\n",
       "      <td>41480</td>\n",
       "      <td>2013-03-11</td>\n",
       "      <td>122607</td>\n",
       "      <td>585</td>\n",
       "    </tr>\n",
       "    <tr>\n",
       "      <th>3</th>\n",
       "      <td>46180</td>\n",
       "      <td>2001-11-06</td>\n",
       "      <td>43851</td>\n",
       "      <td>562</td>\n",
       "    </tr>\n",
       "    <tr>\n",
       "      <th>4</th>\n",
       "      <td>25707</td>\n",
       "      <td>2006-10-06</td>\n",
       "      <td>211422</td>\n",
       "      <td>621</td>\n",
       "    </tr>\n",
       "  </tbody>\n",
       "</table>\n",
       "</div>"
      ],
      "text/plain": [
       "   client_id     joined  income  credit_score\n",
       "0      46109 2002-04-16  172677           527\n",
       "1      49545 2007-11-14  104564           770\n",
       "2      41480 2013-03-11  122607           585\n",
       "3      46180 2001-11-06   43851           562\n",
       "4      25707 2006-10-06  211422           621"
      ]
     },
     "execution_count": 3,
     "metadata": {},
     "output_type": "execute_result"
    }
   ],
   "source": [
    "clients = pd.read_csv('./clients.csv', parse_dates = ['joined'])\n",
    "clients.head()"
   ]
  },
  {
   "cell_type": "code",
   "execution_count": 4,
   "metadata": {},
   "outputs": [
    {
     "data": {
      "text/plain": [
       "client_id       0\n",
       "joined          0\n",
       "income          0\n",
       "credit_score    0\n",
       "dtype: int64"
      ]
     },
     "execution_count": 4,
     "metadata": {},
     "output_type": "execute_result"
    }
   ],
   "source": [
    "clients.isna().sum()"
   ]
  },
  {
   "cell_type": "code",
   "execution_count": 5,
   "metadata": {},
   "outputs": [
    {
     "data": {
      "text/html": [
       "<div>\n",
       "<style scoped>\n",
       "    .dataframe tbody tr th:only-of-type {\n",
       "        vertical-align: middle;\n",
       "    }\n",
       "\n",
       "    .dataframe tbody tr th {\n",
       "        vertical-align: top;\n",
       "    }\n",
       "\n",
       "    .dataframe thead th {\n",
       "        text-align: right;\n",
       "    }\n",
       "</style>\n",
       "<table border=\"1\" class=\"dataframe\">\n",
       "  <thead>\n",
       "    <tr style=\"text-align: right;\">\n",
       "      <th></th>\n",
       "      <th>client_id</th>\n",
       "      <th>loan_type</th>\n",
       "      <th>loan_amount</th>\n",
       "      <th>repaid</th>\n",
       "      <th>loan_id</th>\n",
       "      <th>loan_start</th>\n",
       "      <th>loan_end</th>\n",
       "      <th>rate</th>\n",
       "    </tr>\n",
       "  </thead>\n",
       "  <tbody>\n",
       "    <tr>\n",
       "      <th>0</th>\n",
       "      <td>46109</td>\n",
       "      <td>home</td>\n",
       "      <td>13672</td>\n",
       "      <td>0</td>\n",
       "      <td>10243</td>\n",
       "      <td>2002-04-16</td>\n",
       "      <td>2003-12-20</td>\n",
       "      <td>2.15</td>\n",
       "    </tr>\n",
       "    <tr>\n",
       "      <th>1</th>\n",
       "      <td>46109</td>\n",
       "      <td>credit</td>\n",
       "      <td>9794</td>\n",
       "      <td>0</td>\n",
       "      <td>10984</td>\n",
       "      <td>2003-10-21</td>\n",
       "      <td>2005-07-17</td>\n",
       "      <td>1.25</td>\n",
       "    </tr>\n",
       "    <tr>\n",
       "      <th>2</th>\n",
       "      <td>46109</td>\n",
       "      <td>home</td>\n",
       "      <td>12734</td>\n",
       "      <td>1</td>\n",
       "      <td>10990</td>\n",
       "      <td>2006-02-01</td>\n",
       "      <td>2007-07-05</td>\n",
       "      <td>0.68</td>\n",
       "    </tr>\n",
       "    <tr>\n",
       "      <th>3</th>\n",
       "      <td>46109</td>\n",
       "      <td>cash</td>\n",
       "      <td>12518</td>\n",
       "      <td>1</td>\n",
       "      <td>10596</td>\n",
       "      <td>2010-12-08</td>\n",
       "      <td>2013-05-05</td>\n",
       "      <td>1.24</td>\n",
       "    </tr>\n",
       "    <tr>\n",
       "      <th>4</th>\n",
       "      <td>46109</td>\n",
       "      <td>credit</td>\n",
       "      <td>14049</td>\n",
       "      <td>1</td>\n",
       "      <td>11415</td>\n",
       "      <td>2010-07-07</td>\n",
       "      <td>2012-05-21</td>\n",
       "      <td>3.13</td>\n",
       "    </tr>\n",
       "  </tbody>\n",
       "</table>\n",
       "</div>"
      ],
      "text/plain": [
       "   client_id loan_type  loan_amount  repaid  loan_id loan_start   loan_end  \\\n",
       "0      46109      home        13672       0    10243 2002-04-16 2003-12-20   \n",
       "1      46109    credit         9794       0    10984 2003-10-21 2005-07-17   \n",
       "2      46109      home        12734       1    10990 2006-02-01 2007-07-05   \n",
       "3      46109      cash        12518       1    10596 2010-12-08 2013-05-05   \n",
       "4      46109    credit        14049       1    11415 2010-07-07 2012-05-21   \n",
       "\n",
       "   rate  \n",
       "0  2.15  \n",
       "1  1.25  \n",
       "2  0.68  \n",
       "3  1.24  \n",
       "4  3.13  "
      ]
     },
     "execution_count": 5,
     "metadata": {},
     "output_type": "execute_result"
    }
   ],
   "source": [
    "loans = pd.read_csv('./loans.csv', parse_dates = ['loan_start', 'loan_end'])\n",
    "loans.head()"
   ]
  },
  {
   "cell_type": "code",
   "execution_count": 6,
   "metadata": {},
   "outputs": [
    {
     "data": {
      "text/plain": [
       "client_id      0\n",
       "loan_type      0\n",
       "loan_amount    0\n",
       "repaid         0\n",
       "loan_id        0\n",
       "loan_start     0\n",
       "loan_end       0\n",
       "rate           0\n",
       "dtype: int64"
      ]
     },
     "execution_count": 6,
     "metadata": {},
     "output_type": "execute_result"
    }
   ],
   "source": [
    "loans.isna().sum()"
   ]
  },
  {
   "cell_type": "code",
   "execution_count": 7,
   "metadata": {},
   "outputs": [
    {
     "data": {
      "text/html": [
       "<div>\n",
       "<style scoped>\n",
       "    .dataframe tbody tr th:only-of-type {\n",
       "        vertical-align: middle;\n",
       "    }\n",
       "\n",
       "    .dataframe tbody tr th {\n",
       "        vertical-align: top;\n",
       "    }\n",
       "\n",
       "    .dataframe thead th {\n",
       "        text-align: right;\n",
       "    }\n",
       "</style>\n",
       "<table border=\"1\" class=\"dataframe\">\n",
       "  <thead>\n",
       "    <tr style=\"text-align: right;\">\n",
       "      <th></th>\n",
       "      <th>loan_id</th>\n",
       "      <th>payment_amount</th>\n",
       "      <th>payment_date</th>\n",
       "      <th>missed</th>\n",
       "    </tr>\n",
       "  </thead>\n",
       "  <tbody>\n",
       "    <tr>\n",
       "      <th>0</th>\n",
       "      <td>10243</td>\n",
       "      <td>2369</td>\n",
       "      <td>2002-05-31</td>\n",
       "      <td>1</td>\n",
       "    </tr>\n",
       "    <tr>\n",
       "      <th>1</th>\n",
       "      <td>10243</td>\n",
       "      <td>2439</td>\n",
       "      <td>2002-06-18</td>\n",
       "      <td>1</td>\n",
       "    </tr>\n",
       "    <tr>\n",
       "      <th>2</th>\n",
       "      <td>10243</td>\n",
       "      <td>2662</td>\n",
       "      <td>2002-06-29</td>\n",
       "      <td>0</td>\n",
       "    </tr>\n",
       "    <tr>\n",
       "      <th>3</th>\n",
       "      <td>10243</td>\n",
       "      <td>2268</td>\n",
       "      <td>2002-07-20</td>\n",
       "      <td>0</td>\n",
       "    </tr>\n",
       "    <tr>\n",
       "      <th>4</th>\n",
       "      <td>10243</td>\n",
       "      <td>2027</td>\n",
       "      <td>2002-07-31</td>\n",
       "      <td>1</td>\n",
       "    </tr>\n",
       "  </tbody>\n",
       "</table>\n",
       "</div>"
      ],
      "text/plain": [
       "   loan_id  payment_amount payment_date  missed\n",
       "0    10243            2369   2002-05-31       1\n",
       "1    10243            2439   2002-06-18       1\n",
       "2    10243            2662   2002-06-29       0\n",
       "3    10243            2268   2002-07-20       0\n",
       "4    10243            2027   2002-07-31       1"
      ]
     },
     "execution_count": 7,
     "metadata": {},
     "output_type": "execute_result"
    }
   ],
   "source": [
    "payments = pd.read_csv('./payments.csv', parse_dates = ['payment_date'])\n",
    "payments.head()"
   ]
  },
  {
   "cell_type": "code",
   "execution_count": 8,
   "metadata": {},
   "outputs": [
    {
     "data": {
      "text/plain": [
       "loan_id           0\n",
       "payment_amount    0\n",
       "payment_date      0\n",
       "missed            0\n",
       "dtype: int64"
      ]
     },
     "execution_count": 8,
     "metadata": {},
     "output_type": "execute_result"
    }
   ],
   "source": [
    "payments.isna().sum()"
   ]
  },
  {
   "cell_type": "markdown",
   "metadata": {},
   "source": [
    "### Define entity"
   ]
  },
  {
   "cell_type": "code",
   "execution_count": 9,
   "metadata": {},
   "outputs": [],
   "source": [
    "es = ft.EntitySet(id='clients')\n",
    "\n",
    "es = es.add_dataframe(dataframe_name='clients',\n",
    "                                dataframe=clients,\n",
    "                                index = 'client_id',\n",
    "                                time_index='joined')"
   ]
  },
  {
   "cell_type": "code",
   "execution_count": 10,
   "metadata": {},
   "outputs": [],
   "source": [
    "es = es.add_dataframe(dataframe_name='loans',\n",
    "                                dataframe=loans,\n",
    "                                index = 'loan_id',\n",
    "                                time_index='loan_start')"
   ]
  },
  {
   "cell_type": "code",
   "execution_count": 11,
   "metadata": {},
   "outputs": [],
   "source": [
    "es = es.add_dataframe(dataframe_name='payments',\n",
    "                              dataframe=payments,\n",
    "                              logical_types={'missed':Categorical},\n",
    "                                              make_index=True,\n",
    "                                              index='payment_id',\n",
    "                                              time_index='payment_date')"
   ]
  },
  {
   "cell_type": "markdown",
   "metadata": {},
   "source": [
    "### Check entity"
   ]
  },
  {
   "cell_type": "code",
   "execution_count": 12,
   "metadata": {},
   "outputs": [
    {
     "data": {
      "text/plain": [
       "Entityset: clients\n",
       "  DataFrames:\n",
       "    clients [Rows: 25, Columns: 4]\n",
       "    loans [Rows: 443, Columns: 8]\n",
       "    payments [Rows: 3456, Columns: 5]\n",
       "  Relationships:\n",
       "    No relationships"
      ]
     },
     "execution_count": 12,
     "metadata": {},
     "output_type": "execute_result"
    }
   ],
   "source": [
    "es"
   ]
  },
  {
   "cell_type": "code",
   "execution_count": 13,
   "metadata": {},
   "outputs": [
    {
     "data": {
      "text/html": [
       "<div>\n",
       "<style scoped>\n",
       "    .dataframe tbody tr th:only-of-type {\n",
       "        vertical-align: middle;\n",
       "    }\n",
       "\n",
       "    .dataframe tbody tr th {\n",
       "        vertical-align: top;\n",
       "    }\n",
       "\n",
       "    .dataframe thead th {\n",
       "        text-align: right;\n",
       "    }\n",
       "</style>\n",
       "<table border=\"1\" class=\"dataframe\">\n",
       "  <thead>\n",
       "    <tr style=\"text-align: right;\">\n",
       "      <th></th>\n",
       "      <th>client_id</th>\n",
       "      <th>loan_type</th>\n",
       "      <th>loan_amount</th>\n",
       "      <th>repaid</th>\n",
       "      <th>loan_id</th>\n",
       "      <th>loan_start</th>\n",
       "      <th>loan_end</th>\n",
       "      <th>rate</th>\n",
       "    </tr>\n",
       "  </thead>\n",
       "  <tbody>\n",
       "    <tr>\n",
       "      <th>11140</th>\n",
       "      <td>39505</td>\n",
       "      <td>home</td>\n",
       "      <td>2274</td>\n",
       "      <td>1</td>\n",
       "      <td>11140</td>\n",
       "      <td>2000-01-26</td>\n",
       "      <td>2002-01-29</td>\n",
       "      <td>1.00</td>\n",
       "    </tr>\n",
       "    <tr>\n",
       "      <th>11251</th>\n",
       "      <td>26326</td>\n",
       "      <td>home</td>\n",
       "      <td>2847</td>\n",
       "      <td>1</td>\n",
       "      <td>11251</td>\n",
       "      <td>2000-03-06</td>\n",
       "      <td>2001-09-26</td>\n",
       "      <td>1.32</td>\n",
       "    </tr>\n",
       "    <tr>\n",
       "      <th>10816</th>\n",
       "      <td>49545</td>\n",
       "      <td>home</td>\n",
       "      <td>8354</td>\n",
       "      <td>1</td>\n",
       "      <td>10816</td>\n",
       "      <td>2000-03-08</td>\n",
       "      <td>2001-08-02</td>\n",
       "      <td>0.45</td>\n",
       "    </tr>\n",
       "    <tr>\n",
       "      <th>11965</th>\n",
       "      <td>29841</td>\n",
       "      <td>credit</td>\n",
       "      <td>6012</td>\n",
       "      <td>0</td>\n",
       "      <td>11965</td>\n",
       "      <td>2000-03-25</td>\n",
       "      <td>2002-07-10</td>\n",
       "      <td>4.63</td>\n",
       "    </tr>\n",
       "    <tr>\n",
       "      <th>10166</th>\n",
       "      <td>41472</td>\n",
       "      <td>home</td>\n",
       "      <td>13657</td>\n",
       "      <td>1</td>\n",
       "      <td>10166</td>\n",
       "      <td>2000-04-11</td>\n",
       "      <td>2001-09-08</td>\n",
       "      <td>5.68</td>\n",
       "    </tr>\n",
       "    <tr>\n",
       "      <th>...</th>\n",
       "      <td>...</td>\n",
       "      <td>...</td>\n",
       "      <td>...</td>\n",
       "      <td>...</td>\n",
       "      <td>...</td>\n",
       "      <td>...</td>\n",
       "      <td>...</td>\n",
       "      <td>...</td>\n",
       "    </tr>\n",
       "    <tr>\n",
       "      <th>11595</th>\n",
       "      <td>35089</td>\n",
       "      <td>other</td>\n",
       "      <td>773</td>\n",
       "      <td>1</td>\n",
       "      <td>11595</td>\n",
       "      <td>2014-09-26</td>\n",
       "      <td>2016-04-23</td>\n",
       "      <td>7.63</td>\n",
       "    </tr>\n",
       "    <tr>\n",
       "      <th>10985</th>\n",
       "      <td>26695</td>\n",
       "      <td>other</td>\n",
       "      <td>13918</td>\n",
       "      <td>1</td>\n",
       "      <td>10985</td>\n",
       "      <td>2014-10-03</td>\n",
       "      <td>2016-10-25</td>\n",
       "      <td>0.90</td>\n",
       "    </tr>\n",
       "    <tr>\n",
       "      <th>10684</th>\n",
       "      <td>48177</td>\n",
       "      <td>credit</td>\n",
       "      <td>659</td>\n",
       "      <td>1</td>\n",
       "      <td>10684</td>\n",
       "      <td>2014-10-05</td>\n",
       "      <td>2017-01-16</td>\n",
       "      <td>1.52</td>\n",
       "    </tr>\n",
       "    <tr>\n",
       "      <th>10131</th>\n",
       "      <td>49068</td>\n",
       "      <td>other</td>\n",
       "      <td>10082</td>\n",
       "      <td>1</td>\n",
       "      <td>10131</td>\n",
       "      <td>2014-10-10</td>\n",
       "      <td>2016-05-25</td>\n",
       "      <td>0.63</td>\n",
       "    </tr>\n",
       "    <tr>\n",
       "      <th>11072</th>\n",
       "      <td>26326</td>\n",
       "      <td>credit</td>\n",
       "      <td>5275</td>\n",
       "      <td>0</td>\n",
       "      <td>11072</td>\n",
       "      <td>2014-11-11</td>\n",
       "      <td>2016-07-17</td>\n",
       "      <td>1.45</td>\n",
       "    </tr>\n",
       "  </tbody>\n",
       "</table>\n",
       "<p>443 rows × 8 columns</p>\n",
       "</div>"
      ],
      "text/plain": [
       "       client_id loan_type  loan_amount  repaid  loan_id loan_start  \\\n",
       "11140      39505      home         2274       1    11140 2000-01-26   \n",
       "11251      26326      home         2847       1    11251 2000-03-06   \n",
       "10816      49545      home         8354       1    10816 2000-03-08   \n",
       "11965      29841    credit         6012       0    11965 2000-03-25   \n",
       "10166      41472      home        13657       1    10166 2000-04-11   \n",
       "...          ...       ...          ...     ...      ...        ...   \n",
       "11595      35089     other          773       1    11595 2014-09-26   \n",
       "10985      26695     other        13918       1    10985 2014-10-03   \n",
       "10684      48177    credit          659       1    10684 2014-10-05   \n",
       "10131      49068     other        10082       1    10131 2014-10-10   \n",
       "11072      26326    credit         5275       0    11072 2014-11-11   \n",
       "\n",
       "        loan_end  rate  \n",
       "11140 2002-01-29  1.00  \n",
       "11251 2001-09-26  1.32  \n",
       "10816 2001-08-02  0.45  \n",
       "11965 2002-07-10  4.63  \n",
       "10166 2001-09-08  5.68  \n",
       "...          ...   ...  \n",
       "11595 2016-04-23  7.63  \n",
       "10985 2016-10-25  0.90  \n",
       "10684 2017-01-16  1.52  \n",
       "10131 2016-05-25  0.63  \n",
       "11072 2016-07-17  1.45  \n",
       "\n",
       "[443 rows x 8 columns]"
      ]
     },
     "execution_count": 13,
     "metadata": {},
     "output_type": "execute_result"
    }
   ],
   "source": [
    "es['loans']"
   ]
  },
  {
   "cell_type": "markdown",
   "metadata": {},
   "source": [
    "### create just one new feature (total_loan_amount)"
   ]
  },
  {
   "cell_type": "code",
   "execution_count": 14,
   "metadata": {},
   "outputs": [
    {
     "data": {
      "text/html": [
       "<div>\n",
       "<style scoped>\n",
       "    .dataframe tbody tr th:only-of-type {\n",
       "        vertical-align: middle;\n",
       "    }\n",
       "\n",
       "    .dataframe tbody tr th {\n",
       "        vertical-align: top;\n",
       "    }\n",
       "\n",
       "    .dataframe thead th {\n",
       "        text-align: right;\n",
       "    }\n",
       "</style>\n",
       "<table border=\"1\" class=\"dataframe\">\n",
       "  <thead>\n",
       "    <tr style=\"text-align: right;\">\n",
       "      <th></th>\n",
       "      <th>client_id</th>\n",
       "      <th>joined</th>\n",
       "      <th>income</th>\n",
       "      <th>credit_score</th>\n",
       "      <th>total_loan_amount</th>\n",
       "    </tr>\n",
       "  </thead>\n",
       "  <tbody>\n",
       "    <tr>\n",
       "      <th>42320</th>\n",
       "      <td>42320</td>\n",
       "      <td>2000-04-27</td>\n",
       "      <td>229481</td>\n",
       "      <td>563</td>\n",
       "      <td>105931</td>\n",
       "    </tr>\n",
       "    <tr>\n",
       "      <th>39384</th>\n",
       "      <td>39384</td>\n",
       "      <td>2000-06-18</td>\n",
       "      <td>191204</td>\n",
       "      <td>617</td>\n",
       "      <td>149444</td>\n",
       "    </tr>\n",
       "    <tr>\n",
       "      <th>26945</th>\n",
       "      <td>26945</td>\n",
       "      <td>2000-11-26</td>\n",
       "      <td>214516</td>\n",
       "      <td>806</td>\n",
       "      <td>106889</td>\n",
       "    </tr>\n",
       "    <tr>\n",
       "      <th>41472</th>\n",
       "      <td>41472</td>\n",
       "      <td>2001-11-06</td>\n",
       "      <td>152214</td>\n",
       "      <td>638</td>\n",
       "      <td>120173</td>\n",
       "    </tr>\n",
       "    <tr>\n",
       "      <th>46180</th>\n",
       "      <td>46180</td>\n",
       "      <td>2001-11-06</td>\n",
       "      <td>43851</td>\n",
       "      <td>562</td>\n",
       "      <td>154017</td>\n",
       "    </tr>\n",
       "    <tr>\n",
       "      <th>46109</th>\n",
       "      <td>46109</td>\n",
       "      <td>2002-04-16</td>\n",
       "      <td>172677</td>\n",
       "      <td>527</td>\n",
       "      <td>179032</td>\n",
       "    </tr>\n",
       "    <tr>\n",
       "      <th>32885</th>\n",
       "      <td>32885</td>\n",
       "      <td>2002-05-13</td>\n",
       "      <td>58955</td>\n",
       "      <td>642</td>\n",
       "      <td>148806</td>\n",
       "    </tr>\n",
       "    <tr>\n",
       "      <th>29841</th>\n",
       "      <td>29841</td>\n",
       "      <td>2002-08-17</td>\n",
       "      <td>38354</td>\n",
       "      <td>523</td>\n",
       "      <td>176634</td>\n",
       "    </tr>\n",
       "    <tr>\n",
       "      <th>38537</th>\n",
       "      <td>38537</td>\n",
       "      <td>2002-10-21</td>\n",
       "      <td>127183</td>\n",
       "      <td>643</td>\n",
       "      <td>152768</td>\n",
       "    </tr>\n",
       "    <tr>\n",
       "      <th>35214</th>\n",
       "      <td>35214</td>\n",
       "      <td>2003-08-08</td>\n",
       "      <td>95849</td>\n",
       "      <td>696</td>\n",
       "      <td>129124</td>\n",
       "    </tr>\n",
       "  </tbody>\n",
       "</table>\n",
       "</div>"
      ],
      "text/plain": [
       "       client_id     joined  income  credit_score  total_loan_amount\n",
       "42320      42320 2000-04-27  229481           563             105931\n",
       "39384      39384 2000-06-18  191204           617             149444\n",
       "26945      26945 2000-11-26  214516           806             106889\n",
       "41472      41472 2001-11-06  152214           638             120173\n",
       "46180      46180 2001-11-06   43851           562             154017\n",
       "46109      46109 2002-04-16  172677           527             179032\n",
       "32885      32885 2002-05-13   58955           642             148806\n",
       "29841      29841 2002-08-17   38354           523             176634\n",
       "38537      38537 2002-10-21  127183           643             152768\n",
       "35214      35214 2003-08-08   95849           696             129124"
      ]
     },
     "execution_count": 14,
     "metadata": {},
     "output_type": "execute_result"
    }
   ],
   "source": [
    "stats = loans.groupby('client_id')['loan_amount'].agg(['sum'])\n",
    "stats.columns = ['total_loan_amount']\n",
    "\n",
    "stats = clients.merge(stats, left_on='client_id',right_index=True,how='left')\n",
    "\n",
    "stats.head(10)"
   ]
  },
  {
   "cell_type": "markdown",
   "metadata": {},
   "source": [
    "### define Relationship"
   ]
  },
  {
   "cell_type": "code",
   "execution_count": 15,
   "metadata": {},
   "outputs": [
    {
     "data": {
      "text/plain": [
       "Entityset: clients\n",
       "  DataFrames:\n",
       "    clients [Rows: 25, Columns: 4]\n",
       "    loans [Rows: 443, Columns: 8]\n",
       "    payments [Rows: 3456, Columns: 5]\n",
       "  Relationships:\n",
       "    loans.client_id -> clients.client_id\n",
       "    payments.loan_id -> loans.loan_id"
      ]
     },
     "execution_count": 15,
     "metadata": {},
     "output_type": "execute_result"
    }
   ],
   "source": [
    "r_client_previous = ft.Relationship(es, 'clients','client_id','loans','client_id')\n",
    "\n",
    "es = es.add_relationship(relationship=r_client_previous)\n",
    "\n",
    "r_payments = ft.Relationship(es, 'loans','loan_id','payments','loan_id')\n",
    "\n",
    "es = es.add_relationship(relationship=r_payments)\n",
    "es"
   ]
  },
  {
   "cell_type": "markdown",
   "metadata": {},
   "source": [
    "### do dfs"
   ]
  },
  {
   "cell_type": "code",
   "execution_count": 16,
   "metadata": {},
   "outputs": [],
   "source": [
    "features, feature_names = ft.dfs(entityset= es,\n",
    "                                 target_dataframe_name='clients',\n",
    "                                 agg_primitives=['mean', 'max','percent_true','last'],\n",
    "                                 trans_primitives=['year', 'month', 'subtract_numeric', 'divide_numeric'])\n"
   ]
  },
  {
   "cell_type": "markdown",
   "metadata": {},
   "source": [
    "### check data"
   ]
  },
  {
   "cell_type": "code",
   "execution_count": 17,
   "metadata": {},
   "outputs": [
    {
     "data": {
      "text/html": [
       "<div>\n",
       "<style scoped>\n",
       "    .dataframe tbody tr th:only-of-type {\n",
       "        vertical-align: middle;\n",
       "    }\n",
       "\n",
       "    .dataframe tbody tr th {\n",
       "        vertical-align: top;\n",
       "    }\n",
       "\n",
       "    .dataframe thead th {\n",
       "        text-align: right;\n",
       "    }\n",
       "</style>\n",
       "<table border=\"1\" class=\"dataframe\">\n",
       "  <thead>\n",
       "    <tr style=\"text-align: right;\">\n",
       "      <th></th>\n",
       "      <th>MONTH(joined)</th>\n",
       "    </tr>\n",
       "    <tr>\n",
       "      <th>client_id</th>\n",
       "      <th></th>\n",
       "    </tr>\n",
       "  </thead>\n",
       "  <tbody>\n",
       "    <tr>\n",
       "      <th>42320</th>\n",
       "      <td>4</td>\n",
       "    </tr>\n",
       "    <tr>\n",
       "      <th>39384</th>\n",
       "      <td>6</td>\n",
       "    </tr>\n",
       "    <tr>\n",
       "      <th>26945</th>\n",
       "      <td>11</td>\n",
       "    </tr>\n",
       "    <tr>\n",
       "      <th>41472</th>\n",
       "      <td>11</td>\n",
       "    </tr>\n",
       "    <tr>\n",
       "      <th>46180</th>\n",
       "      <td>11</td>\n",
       "    </tr>\n",
       "  </tbody>\n",
       "</table>\n",
       "</div>"
      ],
      "text/plain": [
       "          MONTH(joined)\n",
       "client_id              \n",
       "42320                 4\n",
       "39384                 6\n",
       "26945                11\n",
       "41472                11\n",
       "46180                11"
      ]
     },
     "execution_count": 17,
     "metadata": {},
     "output_type": "execute_result"
    }
   ],
   "source": [
    "pd.DataFrame(features['MONTH(joined)'].head())"
   ]
  },
  {
   "cell_type": "code",
   "execution_count": 18,
   "metadata": {},
   "outputs": [
    {
     "data": {
      "text/html": [
       "<div>\n",
       "<style scoped>\n",
       "    .dataframe tbody tr th:only-of-type {\n",
       "        vertical-align: middle;\n",
       "    }\n",
       "\n",
       "    .dataframe tbody tr th {\n",
       "        vertical-align: top;\n",
       "    }\n",
       "\n",
       "    .dataframe thead th {\n",
       "        text-align: right;\n",
       "    }\n",
       "</style>\n",
       "<table border=\"1\" class=\"dataframe\">\n",
       "  <thead>\n",
       "    <tr style=\"text-align: right;\">\n",
       "      <th></th>\n",
       "      <th>MEAN(payments.payment_amount)</th>\n",
       "    </tr>\n",
       "    <tr>\n",
       "      <th>client_id</th>\n",
       "      <th></th>\n",
       "    </tr>\n",
       "  </thead>\n",
       "  <tbody>\n",
       "    <tr>\n",
       "      <th>42320</th>\n",
       "      <td>1021.483333</td>\n",
       "    </tr>\n",
       "    <tr>\n",
       "      <th>39384</th>\n",
       "      <td>1193.630137</td>\n",
       "    </tr>\n",
       "    <tr>\n",
       "      <th>26945</th>\n",
       "      <td>1109.473214</td>\n",
       "    </tr>\n",
       "    <tr>\n",
       "      <th>41472</th>\n",
       "      <td>1129.076190</td>\n",
       "    </tr>\n",
       "    <tr>\n",
       "      <th>46180</th>\n",
       "      <td>1186.550336</td>\n",
       "    </tr>\n",
       "  </tbody>\n",
       "</table>\n",
       "</div>"
      ],
      "text/plain": [
       "           MEAN(payments.payment_amount)\n",
       "client_id                               \n",
       "42320                        1021.483333\n",
       "39384                        1193.630137\n",
       "26945                        1109.473214\n",
       "41472                        1129.076190\n",
       "46180                        1186.550336"
      ]
     },
     "execution_count": 18,
     "metadata": {},
     "output_type": "execute_result"
    }
   ],
   "source": [
    "pd.DataFrame(features['MEAN(payments.payment_amount)'].head())"
   ]
  },
  {
   "cell_type": "code",
   "execution_count": 19,
   "metadata": {},
   "outputs": [
    {
     "data": {
      "text/html": [
       "<div>\n",
       "<style scoped>\n",
       "    .dataframe tbody tr th:only-of-type {\n",
       "        vertical-align: middle;\n",
       "    }\n",
       "\n",
       "    .dataframe tbody tr th {\n",
       "        vertical-align: top;\n",
       "    }\n",
       "\n",
       "    .dataframe thead th {\n",
       "        text-align: right;\n",
       "    }\n",
       "</style>\n",
       "<table border=\"1\" class=\"dataframe\">\n",
       "  <thead>\n",
       "    <tr style=\"text-align: right;\">\n",
       "      <th></th>\n",
       "      <th>MEAN(loans.loan_amount)</th>\n",
       "      <th>MEAN(loans.rate)</th>\n",
       "      <th>MAX(loans.loan_amount)</th>\n",
       "      <th>MAX(loans.rate)</th>\n",
       "      <th>LAST(loans.loan_type)</th>\n",
       "      <th>LAST(loans.loan_amount)</th>\n",
       "    </tr>\n",
       "    <tr>\n",
       "      <th>client_id</th>\n",
       "      <th></th>\n",
       "      <th></th>\n",
       "      <th></th>\n",
       "      <th></th>\n",
       "      <th></th>\n",
       "      <th></th>\n",
       "    </tr>\n",
       "  </thead>\n",
       "  <tbody>\n",
       "    <tr>\n",
       "      <th>42320</th>\n",
       "      <td>7062.066667</td>\n",
       "      <td>2.457333</td>\n",
       "      <td>13887.0</td>\n",
       "      <td>6.74</td>\n",
       "      <td>home</td>\n",
       "      <td>8090</td>\n",
       "    </tr>\n",
       "    <tr>\n",
       "      <th>39384</th>\n",
       "      <td>7865.473684</td>\n",
       "      <td>3.538421</td>\n",
       "      <td>14654.0</td>\n",
       "      <td>9.23</td>\n",
       "      <td>other</td>\n",
       "      <td>14654</td>\n",
       "    </tr>\n",
       "    <tr>\n",
       "      <th>26945</th>\n",
       "      <td>7125.933333</td>\n",
       "      <td>2.855333</td>\n",
       "      <td>14593.0</td>\n",
       "      <td>5.65</td>\n",
       "      <td>cash</td>\n",
       "      <td>9249</td>\n",
       "    </tr>\n",
       "    <tr>\n",
       "      <th>41472</th>\n",
       "      <td>7510.812500</td>\n",
       "      <td>3.981250</td>\n",
       "      <td>13657.0</td>\n",
       "      <td>9.82</td>\n",
       "      <td>cash</td>\n",
       "      <td>10122</td>\n",
       "    </tr>\n",
       "    <tr>\n",
       "      <th>46180</th>\n",
       "      <td>7700.850000</td>\n",
       "      <td>3.502500</td>\n",
       "      <td>14081.0</td>\n",
       "      <td>9.26</td>\n",
       "      <td>other</td>\n",
       "      <td>3834</td>\n",
       "    </tr>\n",
       "  </tbody>\n",
       "</table>\n",
       "</div>"
      ],
      "text/plain": [
       "           MEAN(loans.loan_amount)  MEAN(loans.rate)  MAX(loans.loan_amount)  \\\n",
       "client_id                                                                      \n",
       "42320                  7062.066667          2.457333                 13887.0   \n",
       "39384                  7865.473684          3.538421                 14654.0   \n",
       "26945                  7125.933333          2.855333                 14593.0   \n",
       "41472                  7510.812500          3.981250                 13657.0   \n",
       "46180                  7700.850000          3.502500                 14081.0   \n",
       "\n",
       "           MAX(loans.rate) LAST(loans.loan_type)  LAST(loans.loan_amount)  \n",
       "client_id                                                                  \n",
       "42320                 6.74                  home                     8090  \n",
       "39384                 9.23                 other                    14654  \n",
       "26945                 5.65                  cash                     9249  \n",
       "41472                 9.82                  cash                    10122  \n",
       "46180                 9.26                 other                     3834  "
      ]
     },
     "execution_count": 19,
     "metadata": {},
     "output_type": "execute_result"
    }
   ],
   "source": [
    "pd.DataFrame(features[['MEAN(loans.loan_amount)','MEAN(loans.rate)','MAX(loans.loan_amount)','MAX(loans.rate)','LAST(loans.loan_type)','LAST(loans.loan_amount)']].head())"
   ]
  }
 ],
 "metadata": {
  "kernelspec": {
   "display_name": "ds",
   "language": "python",
   "name": "python3"
  },
  "language_info": {
   "codemirror_mode": {
    "name": "ipython",
    "version": 3
   },
   "file_extension": ".py",
   "mimetype": "text/x-python",
   "name": "python",
   "nbconvert_exporter": "python",
   "pygments_lexer": "ipython3",
   "version": "3.11.8"
  }
 },
 "nbformat": 4,
 "nbformat_minor": 2
}
